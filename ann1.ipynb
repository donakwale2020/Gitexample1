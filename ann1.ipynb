{
  "nbformat": 4,
  "nbformat_minor": 0,
  "metadata": {
    "colab": {
      "provenance": [],
      "authorship_tag": "ABX9TyOm0bz8Kk30JlwGD37UAH8J",
      "include_colab_link": true
    },
    "kernelspec": {
      "name": "python3",
      "display_name": "Python 3"
    },
    "language_info": {
      "name": "python"
    }
  },
  "cells": [
    {
      "cell_type": "markdown",
      "metadata": {
        "id": "view-in-github",
        "colab_type": "text"
      },
      "source": [
        "<a href=\"https://colab.research.google.com/github/donakwale2020/Gitexample1/blob/master/ann1.ipynb\" target=\"_parent\"><img src=\"https://colab.research.google.com/assets/colab-badge.svg\" alt=\"Open In Colab\"/></a>"
      ]
    },
    {
      "cell_type": "code",
      "execution_count": 4,
      "metadata": {
        "colab": {
          "base_uri": "https://localhost:8080/"
        },
        "id": "prRphL7TFqmH",
        "outputId": "c805577b-1d94-42d3-885c-83cbc00a3bff"
      },
      "outputs": [
        {
          "output_type": "stream",
          "name": "stdout",
          "text": [
            "Downloading data from https://storage.googleapis.com/tensorflow/tf-keras-datasets/mnist.npz\n",
            "11493376/11490434 [==============================] - 0s 0us/step\n",
            "11501568/11490434 [==============================] - 0s 0us/step\n"
          ]
        }
      ],
      "source": [
        "import numpy as np\n",
        "import matplotlib.pyplot as plt\n",
        "import tensorflow as tf\n",
        "\n",
        "from tensorflow import keras\n",
        "mnist=keras.datasets.mnist\n",
        "(train_images,train_labels),(test_images,test_labels)=mnist.load_data( )"
      ]
    },
    {
      "cell_type": "code",
      "source": [
        "print(\"training data: {}, {}\".format(train_images.shape,train_labels.shape))"
      ],
      "metadata": {
        "colab": {
          "base_uri": "https://localhost:8080/"
        },
        "id": "BzV-CVdAN4tR",
        "outputId": "2ca89068-b35c-4a60-d3e4-efd5e0e80b63"
      },
      "execution_count": 9,
      "outputs": [
        {
          "output_type": "stream",
          "name": "stdout",
          "text": [
            "training data: (60000, 28, 28), (60000,)\n"
          ]
        }
      ]
    },
    {
      "cell_type": "code",
      "source": [
        "print(\"Test data: {}, {}\".format(test_images.shape,test_labels.shape))"
      ],
      "metadata": {
        "id": "SVjhO1y3OS1A"
      },
      "execution_count": null,
      "outputs": []
    },
    {
      "cell_type": "code",
      "source": [
        "class_labels=np.unique(train_labels)\n",
        "print(\"There are {} classes in the dataset. they are: {}\".format(len(class_labels),class_labels))"
      ],
      "metadata": {
        "colab": {
          "base_uri": "https://localhost:8080/"
        },
        "id": "h8nXVmS0PBXh",
        "outputId": "f1dbf28b-29de-48c8-e138-8a6245a0212d"
      },
      "execution_count": 10,
      "outputs": [
        {
          "output_type": "stream",
          "name": "stdout",
          "text": [
            "There are 10 classes in the dataset. they are: [0 1 2 3 4 5 6 7 8 9]\n"
          ]
        }
      ]
    },
    {
      "cell_type": "code",
      "source": [
        "plt.figure(figsize=(8,5))"
      ],
      "metadata": {
        "id": "tDOD8l6dQjzk",
        "outputId": "ac4539b3-fbac-4ebd-a4d6-80d2b6a0e8d2",
        "colab": {
          "base_uri": "https://localhost:8080/",
          "height": 57
        }
      },
      "execution_count": 11,
      "outputs": [
        {
          "output_type": "execute_result",
          "data": {
            "text/plain": [
              "<Figure size 576x360 with 0 Axes>"
            ]
          },
          "metadata": {},
          "execution_count": 11
        },
        {
          "output_type": "display_data",
          "data": {
            "text/plain": [
              "<Figure size 576x360 with 0 Axes>"
            ]
          },
          "metadata": {}
        }
      ]
    },
    {
      "cell_type": "code",
      "source": [
        "plt.subplot(1,3,1)\n",
        "plt.imshow(train_images[0])\n",
        "plt.title(\"Label: {}\".format(train_labels[0]))"
      ],
      "metadata": {
        "id": "okFKiN3VQyc2",
        "outputId": "449d9017-08d8-42c8-b4a3-a2816bcad1d8",
        "colab": {
          "base_uri": "https://localhost:8080/",
          "height": 182
        }
      },
      "execution_count": 12,
      "outputs": [
        {
          "output_type": "execute_result",
          "data": {
            "text/plain": [
              "Text(0.5, 1.0, 'Label: 5')"
            ]
          },
          "metadata": {},
          "execution_count": 12
        },
        {
          "output_type": "display_data",
          "data": {
            "text/plain": [
              "<Figure size 432x288 with 1 Axes>"
            ],
            "image/png": "[encoded data removed]"
          },
          "metadata": {
            "needs_background": "light"
          }
        }
      ]
    },
    {
      "cell_type": "code",
      "source": [
        "plt.subplot(1,3,3)\n",
        "plt.imshow(train_images[12])"
      ],
      "metadata": {
        "id": "U_qZ73E8RWJ-",
        "outputId": "aed4d9d2-1f5a-4c83-bdd8-43a3767e1b49",
        "colab": {
          "base_uri": "https://localhost:8080/",
          "height": 169
        }
      },
      "execution_count": 13,
      "outputs": [
        {
          "output_type": "execute_result",
          "data": {
            "text/plain": [
              "<matplotlib.image.AxesImage at 0x7f39d8068650>"
            ]
          },
          "metadata": {},
          "execution_count": 13
        },
        {
          "output_type": "display_data",
          "data": {
            "text/plain": [
              "<Figure size 432x288 with 1 Axes>"
            ],
            "image/png": "[encoded data removed]"
          },
          "metadata": {
            "needs_background": "light"
          }
        }
      ]
    },
    {
      "cell_type": "code",
      "source": [
        "plt.show()"
      ],
      "metadata": {
        "id": "yxrz7HfMReyA"
      },
      "execution_count": 6,
      "outputs": []
    },
    {
      "cell_type": "code",
      "source": [
        "#As usual, we sacle our dataset to range between 0 and 1. \n",
        "# In this dataset, the pixel values range from 0 to 255.\n",
        "#Dividing the data by 255 scales to the required range\n",
        "train_images=train_images/255.0\n",
        "test_images=test_images/255.0\n"
      ],
      "metadata": {
        "id": "p24q9_w-UJhP"
      },
      "execution_count": 14,
      "outputs": []
    },
    {
      "cell_type": "code",
      "source": [
        "#split training data to training and validation sets.\n",
        "x_train=train_images[0:50000]\n",
        "x_val=train_images[50000:]\n",
        "y_train=train_labels[0:50000]\n",
        "y_val=train_labels[50000:]"
      ],
      "metadata": {
        "id": "9RRTCd5uXgIn"
      },
      "execution_count": 15,
      "outputs": []
    },
    {
      "cell_type": "code",
      "source": [
        "print(\"x_train: {}\".format(x_train.shape))#print x_train:(50000,28,28)\n",
        "print(\"x_val: {}\".format(x_val.shape))#print x_val:(10000,28,28)\n",
        "print(\"y_train: {}\".format(y_train.shape))#print y_train:(50000)\n",
        "print(\"y_val: {}\".format(y_val.shape))#print y_val:(10000)"
      ],
      "metadata": {
        "id": "ky5POtsAYdfl",
        "outputId": "43d020df-fd59-4b7e-c834-d3abec6b90ab",
        "colab": {
          "base_uri": "https://localhost:8080/"
        }
      },
      "execution_count": 16,
      "outputs": [
        {
          "output_type": "stream",
          "name": "stdout",
          "text": [
            "x_train: (50000, 28, 28)\n",
            "x_val: (10000, 28, 28)\n",
            "y_train: (50000,)\n",
            "y_val: (10000,)\n"
          ]
        }
      ]
    },
    {
      "cell_type": "code",
      "source": [
        "from tensorflow.keras.utils import to_categorical\n",
        "no_labels = 10\n",
        "y_train =to_categorical(y_train, no_labels)\n",
        "y_val = to_categorical(y_val, no_labels)\n",
        "y_test = to_categorical(test_labels, no_labels)"
      ],
      "metadata": {
        "id": "4vBrdeCfIGm1"
      },
      "execution_count": 17,
      "outputs": []
    },
    {
      "cell_type": "code",
      "source": [
        "new_dimension = np.prod(train_images.shape[1:])\n",
        "x_train=x_train.reshape(x_train.shape[0], new_dimension)\n",
        "x_val = x_val.reshape(x_val.shape[0], new_dimension) \n",
        "test_images=test_images.reshape(test_images.shape[0], new_dimension)"
      ],
      "metadata": {
        "id": "DYTokajrae44"
      },
      "execution_count": 18,
      "outputs": []
    },
    {
      "cell_type": "code",
      "source": [
        "print(\"x_train: {}\".format(x_train.shape))\n",
        "print(\"x_val: {}\".format(x_val.shape))\n",
        "print(\"test_images: {}\".format(test_images.shape))"
      ],
      "metadata": {
        "id": "lsh8H8ZaiKGL",
        "outputId": "e3afbb46-740a-4cf7-c9aa-236a8a8b8077",
        "colab": {
          "base_uri": "https://localhost:8080/"
        }
      },
      "execution_count": 19,
      "outputs": [
        {
          "output_type": "stream",
          "name": "stdout",
          "text": [
            "x_train: (50000, 784)\n",
            "x_val: (10000, 784)\n",
            "test_images: (10000, 784)\n"
          ]
        }
      ]
    },
    {
      "cell_type": "code",
      "source": [
        "#inputs\n",
        "#placeholders are not enabled in tf 2\n",
        "import tensorflow.compat.v1 as tf\n",
        "tf.disable_v2_behavior()\n",
        "x = tf.placeholder(tf.float32, [None, new_dimension])\n",
        "y = tf.placeholder(tf.float32, [None, no_labels ])\n"
      ],
      "metadata": {
        "id": "7pewN0F-9doW"
      },
      "execution_count": 32,
      "outputs": []
    },
    {
      "cell_type": "code",
      "source": [
        "#create model architecture\n",
        "def multilayer_perceptron(x, no_classes, first_layer_neurons=256, second_layer_neurons=128):\n",
        "  #first layer\n",
        "  first_weight=tf.Variable(tf.random_uniform([new_dimension,first_layer_neurons]))\n",
        "  first_bias=tf.Variable(tf.zeros([first_layer_neurons]))\n",
        "  first_layer_output=tf.nn.relu(tf.add(tf.matmul(x,first_weight),first_bias))\n",
        "  #second layer \n",
        "  second_weight=tf.Variable(tf.random_uniform([first_layer_neurons,second_layer_neurons]))\n",
        "  second_bias=tf.Variable(tf.zeros([second_layer_neurons]))\n",
        "  second_layer_output=tf.nn.relu(tf.add(tf.matmul(first_layer_output,second_weight),second_bias))\n",
        "  #final layer \n",
        "  final_weight=tf.Variable(tf.random_uniform([second_layer_neurons,no_classes]))\n",
        "  final_bias=tf.Variable(tf.zeros([no_classes]))\n",
        "  logits = tf.add(tf.matmul(second_layer_output, final_weight),  final_bias)\n",
        "\n",
        "  return logits\n"
      ],
      "metadata": {
        "id": "MnIJbqg7-Tdt"
      },
      "execution_count": 25,
      "outputs": []
    },
    {
      "cell_type": "code",
      "source": [
        "logits=multilayer_perceptron(x,no_labels)"
      ],
      "metadata": {
        "id": "SxXsciuXVzSK"
      },
      "execution_count": 26,
      "outputs": []
    },
    {
      "cell_type": "code",
      "source": [
        "learning_rate=0.01\n",
        "#we define te loss and optimiser for the network\n",
        "loss_op=tf.reduce_mean(tf.nn.softmax_cross_entropy_with_logits(logits=logits,labels=y))\n",
        "optimiser=tf.train.AdamOptimizer(learning_rate)\n",
        "train_op=optimiser.minimize(loss_op)"
      ],
      "metadata": {
        "id": "hD1p8FbQXrGW"
      },
      "execution_count": 30,
      "outputs": []
    },
    {
      "cell_type": "code",
      "source": [
        "#initialise the variables\n",
        "init = tf.global_variables_initializer()"
      ],
      "metadata": {
        "id": "8nWZDm4Le6E0"
      },
      "execution_count": 34,
      "outputs": []
    },
    {
      "cell_type": "code",
      "source": [
        "epochs = 20\n",
        "batch_size = 1000\n",
        "iteration = len(x_train) // batch_size"
      ],
      "metadata": {
        "id": "VPRvzk1je9n3"
      },
      "execution_count": 35,
      "outputs": []
    },
    {
      "cell_type": "code",
      "source": [
        "with tf.Session() as session:\n",
        "  session.run(init)\n",
        "  for epoch in range(epochs):\n",
        "    average_cost = 0\n",
        "    start, end = 0, batch_size"
      ],
      "metadata": {
        "id": "QM5CFpSDfFJW"
      },
      "execution_count": 49,
      "outputs": []
    },
    {
      "cell_type": "code",
      "source": [],
      "metadata": {
        "id": "QInJ5OlgfP96"
      },
      "execution_count": null,
      "outputs": []
    },
    {
      "cell_type": "code",
      "source": [
        "     for i in range(iteration):\n",
        "      batch_x, batch_y = x_train[start: end], y_train[start: end]\n",
        "      _, loss = session.run([train_op, loss_op], feed_dict={x: batch_x, y: batch_y})\n",
        "      start += batch_size\n",
        "      end += batch_size \n",
        "      #average loss\n",
        "      average_cost += loss/iteration\n",
        "     print(\"Epoch========{}\".format(epoch))\n",
        "  #evaluate model\n",
        "  prediction = tf.nn.softmax(logits)\n",
        "  ground_truth = tf.equal(tf.argmax(prediction, 1), tf.argmax(Y, 1))\n",
        "  accuracy = tf.reduce_mean(tf.cast(ground_truth, \"float\"))\n",
        "  print(\"Accuracy: {}\".format(accuracy.eval({X: test_images, Y: y_test})))\n",
        "    \n",
        "    "
      ],
      "metadata": {
        "id": "s2U6nt21cS53",
        "outputId": "5fa41c19-83ff-42bf-87f0-92bd9fe14b1c",
        "colab": {
          "base_uri": "https://localhost:8080/",
          "height": 147
        }
      },
      "execution_count": 51,
      "outputs": [
        {
          "output_type": "error",
          "ename": "IndentationError",
          "evalue": "ignored",
          "traceback": [
            "\u001b[0;36m  File \u001b[0;32m\"<ipython-input-51-37d5d7049008>\"\u001b[0;36m, line \u001b[0;32m10\u001b[0m\n\u001b[0;31m    prediction = tf.nn.softmax(logits)\u001b[0m\n\u001b[0m    ^\u001b[0m\n\u001b[0;31mIndentationError\u001b[0m\u001b[0;31m:\u001b[0m unexpected indent\n"
          ]
        }
      ]
    }
  ]
}